{
  "nbformat": 4,
  "nbformat_minor": 0,
  "metadata": {
    "colab": {
      "provenance": [],
      "gpuType": "T4",
      "authorship_tag": "ABX9TyNS73PQz/SmkRvL2EcCpoUo",
      "include_colab_link": true
    },
    "kernelspec": {
      "name": "python3",
      "display_name": "Python 3"
    },
    "language_info": {
      "name": "python"
    },
    "accelerator": "GPU"
  },
  "cells": [
    {
      "cell_type": "markdown",
      "metadata": {
        "id": "view-in-github",
        "colab_type": "text"
      },
      "source": [
        "<a href=\"https://colab.research.google.com/github/omniaghazy/Core_X/blob/main/trajectory_Stiffness_loss.ipynb\" target=\"_parent\"><img src=\"https://colab.research.google.com/assets/colab-badge.svg\" alt=\"Open In Colab\"/></a>"
      ]
    },
    {
      "cell_type": "code",
      "execution_count": 1,
      "metadata": {
        "colab": {
          "base_uri": "https://localhost:8080/"
        },
        "id": "EGejo2-_NhP4",
        "outputId": "8b88665c-94d6-4d2a-d48d-24789d5f5cd8"
      },
      "outputs": [
        {
          "output_type": "stream",
          "name": "stdout",
          "text": [
            "Collecting pybullet\n",
            "  Downloading pybullet-3.2.7.tar.gz (80.5 MB)\n",
            "\u001b[2K     \u001b[90m━━━━━━━━━━━━━━━━━━━━━━━━━━━━━━━━━━━━━━━━\u001b[0m \u001b[32m80.5/80.5 MB\u001b[0m \u001b[31m10.5 MB/s\u001b[0m eta \u001b[36m0:00:00\u001b[0m\n",
            "\u001b[?25h  Preparing metadata (setup.py) ... \u001b[?25l\u001b[?25hdone\n",
            "Building wheels for collected packages: pybullet\n",
            "  Building wheel for pybullet (setup.py) ... \u001b[?25l\u001b[?25hdone\n",
            "  Created wheel for pybullet: filename=pybullet-3.2.7-cp312-cp312-linux_x86_64.whl size=99873170 sha256=1b5d92bbb79e82355ce3a4e8db769acd8762ae745c8c020a84a44066f170af1e\n",
            "  Stored in directory: /root/.cache/pip/wheels/72/95/1d/b336e5ee612ae9a019bfff4dc0bedd100ee6f0570db205fdf8\n",
            "Successfully built pybullet\n",
            "Installing collected packages: pybullet\n",
            "Successfully installed pybullet-3.2.7\n"
          ]
        }
      ],
      "source": [
        "!pip install pybullet"
      ]
    },
    {
      "cell_type": "code",
      "source": [
        "import pybullet as p\n",
        "import time\n",
        "import pybullet_data\n",
        "import math\n",
        "import pandas as pd\n",
        "import os\n",
        "import numpy as np\n",
        "from typing import List\n",
        "\n",
        "print(\"--- Starting Joint Stiffness Loss Simulation ---\")\n",
        "\n",
        "# ==========================================================\n",
        "# ⚙️ الـSetup: Connect والـLoad\n",
        "# ==========================================================\n",
        "# يجب أن تضعي هنا كود الـSetup الكامل (p.connect، loadURDF، إلخ.)\n",
        "# أنا أعتبر أن (robotId, controllable_joints, end_effector_link_index)\n",
        "# تم تعريفهم بنجاح في هذا الجزء.\n",
        "\n",
        "physicsClient = p.connect(p.DIRECT)\n",
        "pybullet_data_path = pybullet_data.getDataPath()\n",
        "p.setAdditionalSearchPath(pybullet_data_path)\n",
        "p.setGravity(0, 0, -9.81)\n",
        "p.setRealTimeSimulation(0)\n",
        "planeId = p.loadURDF(\"plane.urdf\")\n",
        "startPos = [0, 0, 0.01]\n",
        "startOrientation = p.getQuaternionFromEuler([0, 0, 0])\n",
        "robotId = p.loadURDF(\"kuka_iiwa/model.urdf\", startPos, startOrientation, useFixedBase=True)\n",
        "\n",
        "numJoints = p.getNumJoints(robotId)\n",
        "controllable_joints = [i for i in range(numJoints) if p.getJointInfo(robotId, i)[2] == p.JOINT_REVOLUTE]\n",
        "end_effector_link_index = 6\n",
        "joint_to_fail = 4\n",
        "\n",
        "for joint in controllable_joints:\n",
        "    p.setJointMotorControl2(robotId, joint, p.VELOCITY_CONTROL, force=0) # لا نحتاج Sensors هنا\n",
        "\n",
        "# --- 5. إعداد حقن العطل (Stiffness Loss) ---\n",
        "INITIAL_STIFFNESS = 100.0   # قيمة الصلابة الأولية (قيمة افتراضية كبيرة)\n",
        "MIN_STIFFNESS = 10.0        # أقل قيمة للصلابة\n",
        "total_steps = 20000\n",
        "fault_injection_step = 10000\n",
        "STIFFNESS_DECREMENT = (INITIAL_STIFFNESS - MIN_STIFFNESS) / (total_steps - fault_injection_step)\n",
        "\n",
        "data_log: List[List] = []\n",
        "print(f\"✅ Setup Done. Simulation starting for {total_steps} steps (Stiffness Loss).\")\n",
        "\n",
        "# --- 6. اللوب الرئيسي للمحاكاة (توليد البيانات) ---\n",
        "current_stiffness = INITIAL_STIFFNESS\n",
        "try:\n",
        "    for step in range(total_steps):\n",
        "\n",
        "        # أ. حساب المسار (Trajectory) والـIK\n",
        "        target_x = 0.6 + 0.2 * math.sin(step * 0.01)\n",
        "        target_y = 0.0\n",
        "        target_z = 0.8\n",
        "        target_position = [target_x, target_y, target_z]\n",
        "        perfect_commands_list = p.calculateInverseKinematics(robotId, end_effector_link_index, target_position)\n",
        "\n",
        "        # --- ج. (حقن العطل) ---\n",
        "        if step >= fault_injection_step:\n",
        "            if step == fault_injection_step:\n",
        "                print(f\"[STEP {step}] --- FAULT INJECTED! Starting Stiffness Decrease. ---\")\n",
        "\n",
        "            # تقليل قيمة الـStiffness تدريجياً\n",
        "            current_stiffness = max(current_stiffness - STIFFNESS_DECREMENT, MIN_STIFFNESS)\n",
        "\n",
        "            # تطبيق الـChange Dynamics\n",
        "            p.changeDynamics(\n",
        "                bodyUniqueId=robotId,\n",
        "                linkIndex=joint_to_fail,\n",
        "                jointStiffness=current_stiffness\n",
        "            )\n",
        "\n",
        "        log_row = [step]\n",
        "        # --- د. لوب على كل المفاصل للتحكم والتسجيل ---\n",
        "        for i in range(len(controllable_joints)):\n",
        "            joint_index = controllable_joints[i]\n",
        "            target_pos = perfect_commands_list[i]\n",
        "\n",
        "            # 2. إرسال الأمر للمحاكي (هنا الـController ثابت، لكن الـPhysics بتتغير)\n",
        "            p.setJointMotorControl2(bodyIndex=robotId, jointIndex=joint_index, controlMode=p.POSITION_CONTROL,\n",
        "                                    targetPosition=target_pos, positionGain=0.1, velocityGain=0.5)\n",
        "\n",
        "            # 3. تسجيل البيانات\n",
        "            joint_state = p.getJointState(robotId, joint_index)\n",
        "            actual_position = joint_state[0]\n",
        "\n",
        "            log_row.append(target_pos) # Command Position\n",
        "            log_row.append(actual_position) # Actual Position (لتقييم الـError)\n",
        "\n",
        "\n",
        "        log_row.append(current_stiffness) # Stiffness Label\n",
        "        data_log.append(log_row)\n",
        "        p.stepSimulation()\n",
        "\n",
        "except Exception as e:\n",
        "    print(f\"\\nAn error occurred during simulation: {e}\")\n",
        "finally:\n",
        "    # --- 7. إنهاء الاتصال وحفظ البيانات ---\n",
        "    p.disconnect()\n",
        "    if data_log:\n",
        "        columns = ['Step']\n",
        "        for j in controllable_joints:\n",
        "            columns.extend([f'Cmd_J{j}', f'Act_J{j}'])\n",
        "        columns.append('Stiffness_Label')\n",
        "\n",
        "        df = pd.DataFrame(data_log, columns=columns)\n",
        "        output_filename = \"trajectory_Stiffness_loss_data.csv\"\n",
        "        df.to_csv(output_filename, index=False)\n",
        "        print(f\"\\n✅ SUCCESS! Data saved to: {output_filename}\")"
      ],
      "metadata": {
        "colab": {
          "base_uri": "https://localhost:8080/"
        },
        "id": "zAaAuxt6Nqad",
        "outputId": "45ff9c71-3b95-46c0-ae3d-c0d9cd40e616"
      },
      "execution_count": 2,
      "outputs": [
        {
          "output_type": "stream",
          "name": "stdout",
          "text": [
            "--- Starting Joint Stiffness Loss Simulation ---\n",
            "✅ Setup Done. Simulation starting for 20000 steps (Stiffness Loss).\n",
            "[STEP 10000] --- FAULT INJECTED! Starting Stiffness Decrease. ---\n",
            "\n",
            "An error occurred during simulation: 'jointStiffness' is an invalid keyword argument for this function\n",
            "\n",
            "✅ SUCCESS! Data saved to: trajectory_Stiffness_loss_data.csv\n"
          ]
        }
      ]
    },
    {
      "cell_type": "code",
      "source": [],
      "metadata": {
        "id": "uNo7i3dxT0xc"
      },
      "execution_count": null,
      "outputs": []
    }
  ]
}